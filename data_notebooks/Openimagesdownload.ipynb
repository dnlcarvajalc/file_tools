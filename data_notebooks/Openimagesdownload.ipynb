{
  "nbformat": 4,
  "nbformat_minor": 0,
  "metadata": {
    "colab": {
      "provenance": []
    },
    "kernelspec": {
      "name": "python3",
      "display_name": "Python 3"
    },
    "language_info": {
      "name": "python"
    }
  },
  "cells": [
    {
      "cell_type": "code",
      "execution_count": null,
      "metadata": {
        "id": "kTzYyVlCtmKc"
      },
      "outputs": [],
      "source": [
        "!pip install oidv6\n",
        "!pip install --upgrade oidv6"
      ]
    },
    {
      "cell_type": "code",
      "source": [
        "!mkdir images"
      ],
      "metadata": {
        "id": "lWgL6wF9vBbJ"
      },
      "execution_count": 3,
      "outputs": []
    },
    {
      "cell_type": "code",
      "source": [
        "!oidv6 downloader en --dataset /content/images --type_data all --classes Truck --limit 1000"
      ],
      "metadata": {
        "id": "AJICbMtLuZKG"
      },
      "execution_count": null,
      "outputs": []
    },
    {
      "cell_type": "code",
      "source": [
        "from google.colab import files\n",
        "!zip -r /content/images.zip /content/images\n",
        "files.download('/content/images.zip')"
      ],
      "metadata": {
        "id": "gjGNpW9u8ark"
      },
      "execution_count": null,
      "outputs": []
    }
  ]
}